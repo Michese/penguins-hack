{
 "cells": [
  {
   "cell_type": "code",
   "execution_count": 12,
   "metadata": {},
   "outputs": [
    {
     "data": {
      "text/plain": [
       "client_id                             0bacbc2abd314f9fac031d249e485a7b\n",
       "gender                                                               М\n",
       "birth_date                                                        1955\n",
       "create_date                                                 2011-04-15\n",
       "nonresident_flag                                                     R\n",
       "businessman_flag                                                     0\n",
       "city                                                             Томск\n",
       "term                                                               NaN\n",
       "contract_sum                                                       0.0\n",
       "product_category_name      Договор на текущий счет для дебетовой карты\n",
       "card_id                               e7f4adb9187b867ebea15503298437a3\n",
       "card_type_name                                            Visa Rewards\n",
       "start_date                                                      2021.0\n",
       "fact_close_date                                                    NaN\n",
       "purchase_sum                                                   24300.0\n",
       "purchase_count                                                     118\n",
       "current_balance_avg_sum                                            0.0\n",
       "current_balance_sum                                                0.0\n",
       "current_debit_turn_sum                                         35400.0\n",
       "current_credit_turn_sum                                        35400.0\n",
       "card_type                                                           cc\n",
       "Name: 3, dtype: object"
      ]
     },
     "execution_count": 12,
     "metadata": {},
     "output_type": "execute_result"
    }
   ],
   "source": [
    "import pandas as pd\n",
    "import joblib\n",
    "from sklearn.model_selection import train_test_split\n",
    "from sklearn.model_selection import GridSearchCV\n",
    "from sklearn.ensemble import RandomForestClassifier\n",
    "from sklearn.metrics import confusion_matrix\n",
    "from sklearn.metrics import accuracy_score\n",
    "# import numpy as np\n",
    "\n",
    "# pd_jupiter = pd.read_excel('./jupyter.xlsx', engine='openpyxl')\n",
    "# pd_X = pd_jupiter[['x1', 'x2', 'x3']]\n",
    "# pd_Y = pd_jupiter.y\n",
    "# train_X, test_X, train_Y, test_y = train_test_split(pd_X, pd_Y, test_size=0.1, random_state=42)\n",
    "\n",
    "# treeCLF = RandomForestClassifier(random_state=0, min_samples_split=2, min_samples_leaf=1)\n",
    "# parameters = {\n",
    "#     'n_estimators': range(1, 5),\n",
    "#     'max_depth': range(3, 5),\n",
    "# }\n",
    "# cv = [(slice(None), slice(None))]\n",
    "\n",
    "# searchTree = GridSearchCV(treeCLF, parameters, cv=cv)\n",
    "# searchTree.fit(train_X, train_Y)\n",
    "# bestEstimatorTree = searchTree.best_estimator_\n",
    "# pred_y = bestEstimatorTree.predict(test_X)\n",
    "# test_y = test_y.reset_index(drop=True)\n",
    "# resultDatasetPredictions = pd.DataFrame({\n",
    "#     'test_y': test_y,\n",
    "#     'pred_y': pred_y,\n",
    "#     'diff': pred_y - test_y,\n",
    "# })\n",
    "# # resultDatasetPredictions\n",
    "# joblib.dump(bestEstimatorTree, './jupyter/jupyter.pkl')\n",
    "pd_jupiter = pd.read_csv('./jupyter.csv')\n",
    "pd_jupiter.iloc[3]"
   ]
  },
  {
   "cell_type": "code",
   "execution_count": 3,
   "metadata": {
    "pycharm": {
     "name": "#%%\n"
    }
   },
   "outputs": [
    {
     "data": {
      "text/plain": [
       "['./jupiter/jupiter.pkl']"
      ]
     },
     "execution_count": 3,
     "metadata": {},
     "output_type": "execute_result"
    }
   ],
   "source": [
    "\n",
    "\n",
    "\n",
    "# and later you can load it\n",
    "# clf = joblib.load('filename.pkl')"
   ]
  },
  {
   "cell_type": "code",
   "execution_count": 4,
   "metadata": {
    "pycharm": {
     "name": "#%%\n"
    }
   },
   "outputs": [
    {
     "data": {
      "text/html": [
       "<div>\n",
       "<style scoped>\n",
       "    .dataframe tbody tr th:only-of-type {\n",
       "        vertical-align: middle;\n",
       "    }\n",
       "\n",
       "    .dataframe tbody tr th {\n",
       "        vertical-align: top;\n",
       "    }\n",
       "\n",
       "    .dataframe thead th {\n",
       "        text-align: right;\n",
       "    }\n",
       "</style>\n",
       "<table border=\"1\" class=\"dataframe\">\n",
       "  <thead>\n",
       "    <tr style=\"text-align: right;\">\n",
       "      <th></th>\n",
       "      <th>x1</th>\n",
       "      <th>x2</th>\n",
       "      <th>x3</th>\n",
       "    </tr>\n",
       "  </thead>\n",
       "  <tbody>\n",
       "    <tr>\n",
       "      <th>0</th>\n",
       "      <td>1</td>\n",
       "      <td>3</td>\n",
       "      <td>51</td>\n",
       "    </tr>\n",
       "  </tbody>\n",
       "</table>\n",
       "</div>"
      ],
      "text/plain": [
       "   x1  x2  x3\n",
       "0   1   3  51"
      ]
     },
     "execution_count": 4,
     "metadata": {},
     "output_type": "execute_result"
    }
   ],
   "source": []
  },
  {
   "cell_type": "code",
   "execution_count": null,
   "metadata": {},
   "outputs": [],
   "source": []
  }
 ],
 "metadata": {
  "interpreter": {
   "hash": "2b7c52bd8ad02206de645265cab3458653dd72da6782bfda53779bacacfdc4b4"
  },
  "kernelspec": {
   "display_name": "Python 3 (ipykernel)",
   "language": "python",
   "name": "python3"
  },
  "language_info": {
   "codemirror_mode": {
    "name": "ipython",
    "version": 3
   },
   "file_extension": ".py",
   "mimetype": "text/x-python",
   "name": "python",
   "nbconvert_exporter": "python",
   "pygments_lexer": "ipython3",
   "version": "3.10.4"
  }
 },
 "nbformat": 4,
 "nbformat_minor": 2
}
