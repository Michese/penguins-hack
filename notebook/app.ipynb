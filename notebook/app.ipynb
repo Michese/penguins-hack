{
 "cells": [
  {
   "cell_type": "code",
   "execution_count": 1,
   "metadata": {},
   "outputs": [],
   "source": [
    "import pandas as pd\n",
    "import joblib\n",
    "from sklearn.model_selection import train_test_split\n",
    "from sklearn.model_selection import GridSearchCV\n",
    "from sklearn.ensemble import RandomForestClassifier\n",
    "from sklearn.metrics import confusion_matrix\n",
    "from sklearn.metrics import accuracy_score\n",
    "import warnings\n",
    "warnings.filterwarnings('ignore')\n",
    "# import numpy as np\n",
    "\n",
    "# pd_jupiter = pd.read_excel('./jupyter.xlsx', engine='openpyxl')\n",
    "# pd_X = pd_jupiter[['x1', 'x2', 'x3']]\n",
    "# pd_Y = pd_jupiter.y\n",
    "# train_X, test_X, train_Y, test_y = train_test_split(pd_X, pd_Y, test_size=0.1, random_state=42)\n",
    "\n",
    "# treeCLF = RandomForestClassifier(random_state=0, min_samples_split=2, min_samples_leaf=1)\n",
    "# parameters = {\n",
    "#     'n_estimators': range(1, 5),\n",
    "#     'max_depth': range(3, 5),\n",
    "# }\n",
    "# cv = [(slice(None), slice(None))]\n",
    "\n",
    "# searchTree = GridSearchCV(treeCLF, parameters, cv=cv)\n",
    "# searchTree.fit(train_X, train_Y)\n",
    "# bestEstimatorTree = searchTree.best_estimator_\n",
    "# pred_y = bestEstimatorTree.predict(test_X)\n",
    "# test_y = test_y.reset_index(drop=True)\n",
    "# resultDatasetPredictions = pd.DataFrame({\n",
    "#     'test_y': test_y,\n",
    "#     'pred_y': pred_y,\n",
    "#     'diff': pred_y - test_y,\n",
    "# })\n",
    "# # resultDatasetPredictions\n",
    "# joblib.dump(bestEstimatorTree, './jupyter/jupyter.pkl')\n",
    "#pd_jupiter = pd.read_csv('./jupyter.csv')\n",
    "#pd_jupiter.iloc[3]"
   ]
  },
  {
   "cell_type": "code",
   "execution_count": 2,
   "metadata": {
    "pycharm": {
     "name": "#%%\n"
    }
   },
   "outputs": [],
   "source": [
    "\n",
    "\n",
    "\n",
    "# and later you can load it\n",
    "# clf = joblib.load('filename.pkl')"
   ]
  },
  {
   "cell_type": "code",
   "execution_count": null,
   "metadata": {
    "pycharm": {
     "name": "#%%\n"
    }
   },
   "outputs": [],
   "source": [
    "def sayHello():\n",
    "    return pd.DataFrame(data={'x1': [1, 2], 'x2': [3, 5], 'x3': [8, 16]})"
   ]
  },
  {
   "cell_type": "markdown",
   "metadata": {},
   "source": [
    "# Рабочее пространство\n",
    "\n"
   ]
  },
  {
   "cell_type": "markdown",
   "metadata": {},
   "source": [
    "## Загрузка exel"
   ]
  },
  {
   "cell_type": "code",
   "execution_count": 3,
   "metadata": {},
   "outputs": [],
   "source": [
    "#Создание ДатаФраймов \n",
    "dep_xlsx_vk = pd.read_excel(\"jupyter/dep_vk.xlsx\")\n",
    "dep_xlsx_tg = pd.read_excel(\"jupyter/dep_tg.xlsx\")\n",
    "dep_csv = pd.read_csv(\"jupyter/dep_user.csv\")"
   ]
  },
  {
   "cell_type": "code",
   "execution_count": 4,
   "metadata": {},
   "outputs": [],
   "source": [
    "#Исследуемые параметры\n",
    "parameters_vk = [\"Likes\",\"Reposts\",\"Comments\",\"Views\",\"ER\",\"Text\",\"VR\",\"Date\",\"Media 1\"]\n",
    "parameters_tg = [\"Views\",\"Text\",\"VR\",\"Date\",\"Media 1\"]\n",
    "parameters_csv_gender = ['gender', 'contract_sum', \"purchase_sum\", \"purchase_count\"]\n",
    "parameters_csv_city = ['city', 'contract_sum', \"purchase_sum\", \"purchase_count\"]\n",
    "parameters_csv_birth_date = ['birth_date', 'contract_sum', \"purchase_sum\", \"purchase_count\"]\n",
    "#Название параметров\n",
    "rename_parameters_vk = ['likes','reposts','comments','views','coef_vov','title','coef_ohv','datetime_post','media']\n",
    "rename_parameters_tg = ['views','title','coef_ohv','datetime_post','media']\n",
    "#Исследуемые параметры\n",
    "investigated_parameters_vk = ['datetime_post','likes','comments','views','reposts','coef_vov','coef_ohv']\n",
    "investigated_parameters_tg = ['datetime_post','views','coef_ohv']"
   ]
  },
  {
   "cell_type": "code",
   "execution_count": 5,
   "metadata": {},
   "outputs": [],
   "source": [
    "#Очистка Датафрейма\n",
    "dep_xlsx_vk = dep_xlsx_vk[parameters_vk]\n",
    "dep_xlsx_tg = dep_xlsx_tg[parameters_tg]"
   ]
  },
  {
   "cell_type": "code",
   "execution_count": 6,
   "metadata": {},
   "outputs": [],
   "source": [
    "#Переименование параметров\n",
    "#ВК\n",
    "for i in range(len(parameters_vk)):\n",
    "    dep_xlsx_vk.rename(columns={parameters_vk[i]: rename_parameters_vk[i]}, inplace=True)\n",
    "#ТГ\n",
    "for i in range(len(parameters_tg)):\n",
    "    dep_xlsx_tg.rename(columns={parameters_tg[i]: rename_parameters_tg[i]}, inplace=True)"
   ]
  },
  {
   "cell_type": "code",
   "execution_count": 7,
   "metadata": {},
   "outputs": [],
   "source": [
    "#Группировка параметров по дате\n",
    "#ВК\n",
    "dep_xlsx_vk_date = dep_xlsx_vk.copy()\n",
    "dep_xlsx_vk_date['datetime_post'] = pd.to_datetime(dep_xlsx_vk['datetime_post']).dt.date\n",
    "dep_xlsx_vk_date = dep_xlsx_vk_date.groupby('datetime_post').sum()\n",
    "#ТГ\n",
    "dep_xlsx_tg_date = dep_xlsx_tg.copy()\n",
    "dep_xlsx_tg_date['datetime_post'] = pd.to_datetime(dep_xlsx_tg['datetime_post']).dt.date\n",
    "dep_xlsx_tg_date = dep_xlsx_tg_date.groupby('datetime_post').sum()"
   ]
  },
  {
   "cell_type": "code",
   "execution_count": 8,
   "metadata": {},
   "outputs": [],
   "source": [
    "#Cоздание ДатаФрейма для группировки данных по интервалам дня(утро, день, вечер, ночь)\n",
    "#ВК\n",
    "dep_xlsx_vk_date_interval = pd.DataFrame({'interval': ['night', 'morning', 'snack', 'lunch', 'dinner']})\n",
    "investigated_parameters_vk.remove('datetime_post')\n",
    "#ТГ\n",
    "dep_xlsx_tg_date_interval = pd.DataFrame({'interval': ['night', 'morning', 'snack', 'lunch', 'dinner']})\n",
    "investigated_parameters_tg.remove('datetime_post')\n",
    "\n",
    "#Заполнение ДатаФрейма нулями( - 1, так как нумерация начинается с нуля)\n",
    "#ВК\n",
    "for i in range(len(investigated_parameters_vk)):\n",
    "    dep_xlsx_vk_date_interval[investigated_parameters_vk[i]] = [0] * 5\n",
    "#ТГ\n",
    "for i in range(len(investigated_parameters_tg)):\n",
    "    dep_xlsx_tg_date_interval[investigated_parameters_tg[i]] = [0] * 5\n"
   ]
  },
  {
   "cell_type": "code",
   "execution_count": 9,
   "metadata": {},
   "outputs": [],
   "source": [
    "#Группировка параметров по времени суток\n",
    "#ВК\n",
    "for i in range(dep_xlsx_vk.shape[0]):\n",
    "    #Получение чсисла равное часам в данной записи\n",
    "    hour = dep_xlsx_vk['datetime_post'][i].hour\n",
    "    if((hour>= 0 and hour < 6) or (hour>= 22 and hour < 24)) :\n",
    "        for j in range(len(investigated_parameters_vk)):\n",
    "            dep_xlsx_vk_date_interval[investigated_parameters_vk[j]][0] += dep_xlsx_vk[investigated_parameters_vk[j]][i]                                                                                               \n",
    "    if(hour>= 6 and hour < 10):\n",
    "        for j in range(len(investigated_parameters_vk)):\n",
    "            dep_xlsx_vk_date_interval[investigated_parameters_vk[j]][1] += dep_xlsx_vk[investigated_parameters_vk[j]][i]\n",
    "    if(hour>= 10 and hour < 14):\n",
    "        for j in range(len(investigated_parameters_vk)):\n",
    "            dep_xlsx_vk_date_interval[investigated_parameters_vk[j]][2] += dep_xlsx_vk[investigated_parameters_vk[j]][i]\n",
    "    if(hour>= 14 and hour < 18):\n",
    "        for j in range(len(investigated_parameters_vk)):\n",
    "            dep_xlsx_vk_date_interval[investigated_parameters_vk[j]][3] += dep_xlsx_vk[investigated_parameters_vk[j]][i]\n",
    "    if(hour>= 18 and hour < 22):\n",
    "        for j in range(len(investigated_parameters_vk)):\n",
    "            dep_xlsx_vk_date_interval[investigated_parameters_vk[j]][4] += dep_xlsx_vk[investigated_parameters_vk[j]][i]\n",
    "#ТГ\n",
    "for i in range(dep_xlsx_tg.shape[0]):\n",
    "    #Получение чсисла равное часам в данной записи\n",
    "    hour = dep_xlsx_tg['datetime_post'][i].hour\n",
    "    if((hour>= 0 and hour < 6) or (hour>= 22 and hour < 24)) :\n",
    "        for j in range(len(investigated_parameters_tg)):\n",
    "            dep_xlsx_tg_date_interval[investigated_parameters_tg[j]][0] += dep_xlsx_tg[investigated_parameters_tg[j]][i]                                                                                               \n",
    "    if(hour>= 6 and hour < 10):\n",
    "        for j in range(len(investigated_parameters_tg)):\n",
    "            dep_xlsx_tg_date_interval[investigated_parameters_tg[j]][1] += dep_xlsx_tg[investigated_parameters_tg[j]][i]\n",
    "    if(hour>= 10 and hour < 14):\n",
    "        for j in range(len(investigated_parameters_tg)):\n",
    "            dep_xlsx_tg_date_interval[investigated_parameters_tg[j]][2] += dep_xlsx_tg[investigated_parameters_tg[j]][i]\n",
    "    if(hour>= 14 and hour < 18):\n",
    "        for j in range(len(investigated_parameters_tg)):\n",
    "            dep_xlsx_tg_date_interval[investigated_parameters_tg[j]][3] += dep_xlsx_tg[investigated_parameters_tg[j]][i]\n",
    "    if(hour>= 18 and hour < 22):\n",
    "        for j in range(len(investigated_parameters_tg)):\n",
    "            dep_xlsx_tg_date_interval[investigated_parameters_tg[j]][4] += dep_xlsx_tg[investigated_parameters_tg[j]][i]"
   ]
  },
  {
   "cell_type": "code",
   "execution_count": 10,
   "metadata": {},
   "outputs": [],
   "source": [
    "#Группировка по гендеру\n",
    "dep_csv_gender = dep_csv[parameters_csv_gender]\n",
    "dep_csv_gender = dep_csv_gender.groupby('gender').sum()"
   ]
  },
  {
   "cell_type": "code",
   "execution_count": 11,
   "metadata": {},
   "outputs": [],
   "source": [
    "#Группировка по городу\n",
    "dep_csv_city = dep_csv[parameters_csv_city]\n",
    "dep_csv_city = dep_csv_city.groupby('city').sum()"
   ]
  },
  {
   "cell_type": "code",
   "execution_count": 12,
   "metadata": {},
   "outputs": [],
   "source": [
    "#Группировка по дате рождения\n",
    "dep_csv_birth_date = dep_csv[parameters_csv_birth_date]\n",
    "dep_csv_birth_date = dep_csv_birth_date.groupby('birth_date').sum()"
   ]
  },
  {
   "cell_type": "code",
   "execution_count": null,
   "metadata": {},
   "outputs": [],
   "source": []
  }
 ],
 "metadata": {
  "interpreter": {
   "hash": "2b7c52bd8ad02206de645265cab3458653dd72da6782bfda53779bacacfdc4b4"
  },
  "kernelspec": {
   "display_name": "Python 3 (ipykernel)",
   "language": "python",
   "name": "python3"
  },
  "language_info": {
   "codemirror_mode": {
    "name": "ipython",
    "version": 3
   },
   "file_extension": ".py",
   "mimetype": "text/x-python",
   "name": "python",
   "nbconvert_exporter": "python",
   "pygments_lexer": "ipython3",
   "version": "3.10.4"
  }
 },
 "nbformat": 4,
 "nbformat_minor": 2
}
