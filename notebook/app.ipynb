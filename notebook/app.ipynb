{
 "cells": [
  {
   "cell_type": "code",
   "execution_count": 1,
   "metadata": {},
   "outputs": [],
   "source": [
    "import pandas as pd\n",
    "import joblib\n",
    "from sklearn.model_selection import train_test_split\n",
    "from sklearn.model_selection import GridSearchCV\n",
    "from sklearn.ensemble import RandomForestClassifier\n",
    "from sklearn.metrics import confusion_matrix\n",
    "from sklearn.metrics import accuracy_score\n",
    "#import warnings\n",
    "#warnings.filterwarnings('ignore')\n",
    "# import numpy as np\n",
    "\n",
    "# pd_jupiter = pd.read_excel('./jupyter.xlsx', engine='openpyxl')\n",
    "# pd_X = pd_jupiter[['x1', 'x2', 'x3']]\n",
    "# pd_Y = pd_jupiter.y\n",
    "# train_X, test_X, train_Y, test_y = train_test_split(pd_X, pd_Y, test_size=0.1, random_state=42)\n",
    "\n",
    "# treeCLF = RandomForestClassifier(random_state=0, min_samples_split=2, min_samples_leaf=1)\n",
    "# parameters = {\n",
    "#     'n_estimators': range(1, 5),\n",
    "#     'max_depth': range(3, 5),\n",
    "# }\n",
    "# cv = [(slice(None), slice(None))]\n",
    "\n",
    "# searchTree = GridSearchCV(treeCLF, parameters, cv=cv)\n",
    "# searchTree.fit(train_X, train_Y)\n",
    "# bestEstimatorTree = searchTree.best_estimator_\n",
    "# pred_y = bestEstimatorTree.predict(test_X)\n",
    "# test_y = test_y.reset_index(drop=True)\n",
    "# resultDatasetPredictions = pd.DataFrame({\n",
    "#     'test_y': test_y,\n",
    "#     'pred_y': pred_y,\n",
    "#     'diff': pred_y - test_y,\n",
    "# })\n",
    "# # resultDatasetPredictions\n",
    "# joblib.dump(bestEstimatorTree, './jupyter/jupyter.pkl')\n",
    "#pd_jupiter = pd.read_csv('./jupyter.csv')\n",
    "#pd_jupiter.iloc[3]"
   ]
  },
  {
   "cell_type": "code",
   "execution_count": 2,
   "metadata": {
    "pycharm": {
     "name": "#%%\n"
    }
   },
   "outputs": [],
   "source": [
    "\n",
    "\n",
    "\n",
    "# and later you can load it\n",
    "# clf = joblib.load('filename.pkl')"
   ]
  },
  {
   "cell_type": "code",
   "execution_count": null,
   "metadata": {
    "pycharm": {
     "name": "#%%\n"
    }
   },
   "outputs": [],
   "source": []
  },
  {
   "cell_type": "markdown",
   "metadata": {},
   "source": [
    "# Рабочее пространство\n",
    "\n"
   ]
  },
  {
   "cell_type": "markdown",
   "metadata": {},
   "source": [
    "## Загрузка exel"
   ]
  },
  {
   "cell_type": "code",
   "execution_count": 3,
   "metadata": {},
   "outputs": [],
   "source": [
    "#Очистка Датафрейма\n",
    "def ClearDF(df, parameters):\n",
    "    return df[parameters]"
   ]
  },
  {
   "cell_type": "code",
   "execution_count": 4,
   "metadata": {},
   "outputs": [],
   "source": [
    "#Переименование параметров\n",
    "def renameDF(df, parameters, rename_parameters):\n",
    "    for i in range(len(parameters)):\n",
    "        df.rename(columns={parameters[i]: rename_parameters[i]}, inplace=True)\n",
    "    return df"
   ]
  },
  {
   "cell_type": "code",
   "execution_count": 5,
   "metadata": {},
   "outputs": [],
   "source": [
    "#Группировка параметров по дате\n",
    "def groupDF(df, group_parameter):\n",
    "    df_copy = df.copy()\n",
    "    df_copy[group_parameter] = pd.to_datetime(df[group_parameter]).dt.date\n",
    "    df_copy = df_copy.groupby(group_parameter).sum()\n",
    "    return df_copy"
   ]
  },
  {
   "cell_type": "code",
   "execution_count": 6,
   "metadata": {},
   "outputs": [],
   "source": [
    "#Cоздание ДатаФрейма для группировки данных по интервалам дня(утро, день, вечер, ночь)\n",
    "def createDfinterval(intervals, parameters):\n",
    "    df = pd.DataFrame({'interval': intervals})\n",
    "    #Заполнение ДатаФрейма нулями\n",
    "    for i in range(len(parameters)):\n",
    "        df[parameters[i]] = [0] * 5\n",
    "    return df"
   ]
  },
  {
   "cell_type": "code",
   "execution_count": 7,
   "metadata": {},
   "outputs": [],
   "source": [
    "#Группировка параметров по времени суток\n",
    "def paddingDF(df, df_xlsx, date, parameters):\n",
    "    for i in range(df_xlsx.shape[0]):\n",
    "        #Получение чсисла равное часам в данной записи\n",
    "        hour = df_xlsx[date][i].hour\n",
    "        if((hour>= 0 and hour < 6) or (hour>= 22 and hour < 24)) :\n",
    "            for j in range(len(parameters)):\n",
    "                df[parameters[j]][0] += df_xlsx[parameters[j]][i]                                                                                               \n",
    "        if(hour>= 6 and hour < 10):\n",
    "            for j in range(len(parameters)):\n",
    "                df[parameters[j]][1] += df_xlsx[parameters[j]][i]\n",
    "        if(hour>= 10 and hour < 14):\n",
    "            for j in range(len(parameters)):\n",
    "                df[parameters[j]][2] += df_xlsx[parameters[j]][i]\n",
    "        if(hour>= 14 and hour < 18):\n",
    "            for j in range(len(parameters)):\n",
    "                df[parameters[j]][3] += df_xlsx[parameters[j]][i]\n",
    "        if(hour>= 18 and hour < 22):\n",
    "            for j in range(len(parameters)):\n",
    "                df[parameters[j]][4] += df_xlsx[parameters[j]][i]\n",
    "        return df"
   ]
  },
  {
   "cell_type": "code",
   "execution_count": 8,
   "metadata": {},
   "outputs": [],
   "source": [
    "#Группировка по признаку\n",
    "def groupDFcsv(df, group_parameter, parameters):\n",
    "    df_parameter = ClearDF(df, parameters)\n",
    "    df_parameter = df_parameter.groupby(group_parameter).sum()\n",
    "    return df_parameter"
   ]
  },
  {
   "cell_type": "code",
   "execution_count": 9,
   "metadata": {},
   "outputs": [],
   "source": [
    "#ТГ\n",
    "def tg_full():\n",
    "    #Создание ДатаФраймов \n",
    "    dep_xlsx_tg = pd.read_excel(\"jupyter/dep_tg.xlsx\")\n",
    "    \n",
    "    #Исследуемые параметры\n",
    "    parameters_tg = [\"Views\",\"Text\",\"VR\",\"Date\",\"Media 1\"]\n",
    "        \n",
    "    #Название параметров\n",
    "    rename_parameters_tg = ['views','title','coef_ohv','datetime_post','media']\n",
    "    \n",
    "    #Исследуемые параметры\n",
    "    investigated_parameters_tg = ['datetime_post','views','coef_ohv']\n",
    "    \n",
    "    #Исследуемые параметры без учета времени\n",
    "    investigated_parameters_tg_group = ['views','coef_ohv']\n",
    "    \n",
    "    #Переменная времени(индекс)\n",
    "    date = 'datetime_post'\n",
    "    \n",
    "    #Интервалы времени\n",
    "    interval = ['night', 'morning', 'snack', 'lunch', 'dinner']\n",
    "    \n",
    "    \n",
    "    #Вызов функции очистки\n",
    "    dep_xlsx_tg = ClearDF(dep_xlsx_tg, parameters_tg)\n",
    "    \n",
    "    #Вызов функции переименовывания параметров\n",
    "    dep_xlsx_tg = renameDF(dep_xlsx_tg, parameters_tg, rename_parameters_tg)\n",
    "    \n",
    "    #Вызов функции группировки по параметру datetime_post\n",
    "    dep_xlsx_tg_date = groupDF(dep_xlsx_tg,'datetime_post')\n",
    "    \n",
    "    #Фызуов функции создания Датафрейма для группировки по интервалам\n",
    "    dep_xlsx_tg_date_interval = createDfinterval(interval, investigated_parameters_tg_group)\n",
    "    \n",
    "    #Фузов функции заполнения ДатаФрейма\n",
    "    dep_xlsx_tg_date_interval = paddingDF(dep_xlsx_tg_date_interval, dep_xlsx_tg, date, investigated_parameters_tg_group)\n",
    "        \n",
    "    return dep_xlsx_tg_date, dep_xlsx_tg_date_interval"
   ]
  },
  {
   "cell_type": "code",
   "execution_count": 10,
   "metadata": {},
   "outputs": [],
   "source": [
    "#ВК\n",
    "def vk_full():\n",
    "    #Создание ДатаФраймов \n",
    "    dep_xlsx_vk = pd.read_excel(\"jupyter/dep_vk.xlsx\")\n",
    "    \n",
    "    #Исследуемые параметры\n",
    "    parameters_vk = [\"Likes\",\"Reposts\",\"Comments\",\"Views\",\"ER\",\"Text\",\"VR\",\"Date\",\"Media 1\"]\n",
    "    \n",
    "    #Название параметров\n",
    "    rename_parameters_vk = ['likes','reposts','comments','views','coef_vov','title','coef_ohv','datetime_post','media']\n",
    "    \n",
    "    #Исследуемые параметры\n",
    "    investigated_parameters_vk = ['datetime_post','likes','comments','views','reposts','coef_vov','coef_ohv']\n",
    "    \n",
    "    #Исследуемые параметры без учета времени\n",
    "    investigated_parameters_vk_group = ['likes','comments','views','reposts','coef_vov','coef_ohv']\n",
    "    \n",
    "    #Переменная времени(индекс)\n",
    "    date = 'datetime_post'\n",
    "    \n",
    "    #Интервалы времени\n",
    "    interval = ['night', 'morning', 'snack', 'lunch', 'dinner']\n",
    "    \n",
    "    \n",
    "    #Вызов функции очистки\n",
    "    dep_xlsx_vk = ClearDF(dep_xlsx_vk, parameters_vk)\n",
    "    \n",
    "    #Вызов функции переименовывания параметров\n",
    "    dep_xlsx_vk = renameDF(dep_xlsx_vk, parameters_vk, rename_parameters_vk)\n",
    "    \n",
    "    #Вызов функции группировки по параметру datetime_post\n",
    "    dep_xlsx_vk_date = groupDF(dep_xlsx_vk,'datetime_post')\n",
    "    \n",
    "    #Фызуов функции создания Датафрейма для группировки по интервалам\n",
    "    dep_xlsx_vk_date_interval = createDfinterval(interval, investigated_parameters_vk_group)\n",
    "    \n",
    "    #Фузов функции заполнения ДатаФрейма\n",
    "    dep_xlsx_vk_date_interval = paddingDF(dep_xlsx_vk_date_interval, dep_xlsx_vk, date, investigated_parameters_vk_group)\n",
    "        \n",
    "    return dep_xlsx_vk_date, dep_xlsx_vk_date_interval"
   ]
  },
  {
   "cell_type": "code",
   "execution_count": 11,
   "metadata": {},
   "outputs": [],
   "source": [
    "#CSV\n",
    "def csv_full():\n",
    "    #Создание ДатаФраймов \n",
    "    dep_csv = pd.read_csv(\"jupyter/dep_user.csv\")\n",
    "    \n",
    "    #Исследуемые параметры\n",
    "    parameters_csv_gender = ['gender', 'contract_sum', \"purchase_sum\", \"purchase_count\"]\n",
    "    parameters_csv_city = ['city', 'contract_sum', \"purchase_sum\", \"purchase_count\"]\n",
    "    parameters_csv_birth_date = ['birth_date', 'contract_sum', \"purchase_sum\", \"purchase_count\"]\n",
    "    \n",
    "    #Вызов функций для группировки по признаку\n",
    "    #Группировка по гендеру\n",
    "    dep_csv_gender = groupDFcsv(dep_csv, 'gender',parameters_csv_gender)\n",
    "    #Группировка по городу\n",
    "    dep_csv_city = groupDFcsv(dep_csv, 'city',parameters_csv_city)\n",
    "    #Группировка по дате рождения\n",
    "    dep_csv_birth_date = groupDFcsv(dep_csv, 'birth_date', parameters_csv_birth_date)\n",
    "        \n",
    "    return dep_csv_gender, dep_csv_city, dep_csv_birth_date"
   ]
  }
 ],
 "metadata": {
  "interpreter": {
   "hash": "2b7c52bd8ad02206de645265cab3458653dd72da6782bfda53779bacacfdc4b4"
  },
  "kernelspec": {
   "display_name": "Python 3 (ipykernel)",
   "language": "python",
   "name": "python3"
  },
  "language_info": {
   "codemirror_mode": {
    "name": "ipython",
    "version": 3
   },
   "file_extension": ".py",
   "mimetype": "text/x-python",
   "name": "python",
   "nbconvert_exporter": "python",
   "pygments_lexer": "ipython3",
   "version": "3.10.4"
  }
 },
 "nbformat": 4,
 "nbformat_minor": 2
}
